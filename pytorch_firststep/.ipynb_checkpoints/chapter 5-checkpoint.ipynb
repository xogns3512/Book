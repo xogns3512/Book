{
 "cells": [
  {
   "cell_type": "code",
   "execution_count": 1,
   "id": "3c7010c4",
   "metadata": {
    "ExecuteTime": {
     "end_time": "2022-05-22T11:31:48.777802Z",
     "start_time": "2022-05-22T11:31:47.260877Z"
    }
   },
   "outputs": [],
   "source": [
    "import torch \n",
    "import torch.nn as nn\n",
    "import torch.optim as optim\n",
    "import torch.nn.init as init\n",
    "import torchvision.datasets as dset\n",
    "import torchvision.transforms as transforms\n",
    "from torch.utils.data import DataLoader\n",
    "\n",
    "batch_size = 256\n",
    "learning_rate = 0.0002\n",
    "num_epoch = 10"
   ]
  },
  {
   "cell_type": "code",
   "execution_count": 2,
   "id": "a7d7585e",
   "metadata": {
    "ExecuteTime": {
     "end_time": "2022-05-22T11:31:48.823257Z",
     "start_time": "2022-05-22T11:31:48.778801Z"
    }
   },
   "outputs": [],
   "source": [
    "mnist_train = dset.MNIST(\"./\", train = True, transform = transforms.ToTensor(),\n",
    "                        target_transform = None, download = True)\n",
    "mnist_test = dset.MNIST(\"./\", train = False, transform = transforms.ToTensor(),\n",
    "                        target_transform = None, download = True)"
   ]
  },
  {
   "cell_type": "code",
   "execution_count": 3,
   "id": "bfdb886b",
   "metadata": {
    "ExecuteTime": {
     "end_time": "2022-05-22T11:31:48.838217Z",
     "start_time": "2022-05-22T11:31:48.825253Z"
    }
   },
   "outputs": [],
   "source": [
    "train_loader = torch.utils.data.DataLoader(mnist_train, batch_size = batch_size,\n",
    "                                          shuffle = True, num_workers = 2, drop_last = True)\n",
    "test_loader = torch.utils.data.DataLoader(mnist_test, batch_size = batch_size,\n",
    "                                          shuffle = False, num_workers = 2, drop_last = True)"
   ]
  },
  {
   "cell_type": "code",
   "execution_count": 4,
   "id": "d2260674",
   "metadata": {
    "ExecuteTime": {
     "end_time": "2022-05-22T11:31:48.853177Z",
     "start_time": "2022-05-22T11:31:48.840215Z"
    }
   },
   "outputs": [],
   "source": [
    "class CNN(nn.Module):\n",
    "    def __init__(self):\n",
    "        super(CNN,self).__init__()\n",
    "        self.layer = nn.Sequential(\n",
    "            nn.Conv2d(1,16,5),\n",
    "            nn.ReLU(),\n",
    "            nn.Conv2d(16,32,5),\n",
    "            nn.ReLU(),\n",
    "            nn.MaxPool2d(2,2),\n",
    "            nn.Conv2d(32,64,5),\n",
    "            nn.ReLU(),\n",
    "            nn.MaxPool2d(2,2)\n",
    "        )\n",
    "        self.fc_layer = nn.Sequential(\n",
    "            nn.Linear(64*3*3,100),\n",
    "            nn.ReLU(),\n",
    "            nn.Linear(100,10)\n",
    "        )\n",
    "    def forward(self,x):\n",
    "        out = self.layer(x)\n",
    "        out = out.view(batch_size,-1)\n",
    "        out = self.fc_layer(out)\n",
    "        return out"
   ]
  },
  {
   "cell_type": "code",
   "execution_count": 5,
   "id": "1c115472",
   "metadata": {
    "ExecuteTime": {
     "end_time": "2022-05-22T11:31:49.002777Z",
     "start_time": "2022-05-22T11:31:48.855173Z"
    }
   },
   "outputs": [],
   "source": [
    "device = torch.device(\"cuda:0\" if torch.cuda.is_available() else \"cpu\")\n",
    "model = CNN().to(device)\n",
    "loss_func = nn.CrossEntropyLoss()\n",
    "optimizer = torch.optim.Adam(model.parameters(), lr = learning_rate)"
   ]
  },
  {
   "cell_type": "code",
   "execution_count": 6,
   "id": "0491c7ea",
   "metadata": {
    "ExecuteTime": {
     "end_time": "2022-05-22T11:33:03.679661Z",
     "start_time": "2022-05-22T11:31:49.004773Z"
    }
   },
   "outputs": [
    {
     "name": "stdout",
     "output_type": "stream",
     "text": [
      "tensor(2.3002, device='cuda:0', grad_fn=<NllLossBackward0>)\n",
      "tensor(0.2070, device='cuda:0', grad_fn=<NllLossBackward0>)\n",
      "tensor(0.0757, device='cuda:0', grad_fn=<NllLossBackward0>)\n",
      "tensor(0.0556, device='cuda:0', grad_fn=<NllLossBackward0>)\n",
      "tensor(0.0762, device='cuda:0', grad_fn=<NllLossBackward0>)\n",
      "tensor(0.0529, device='cuda:0', grad_fn=<NllLossBackward0>)\n",
      "tensor(0.0561, device='cuda:0', grad_fn=<NllLossBackward0>)\n",
      "tensor(0.0663, device='cuda:0', grad_fn=<NllLossBackward0>)\n",
      "tensor(0.0251, device='cuda:0', grad_fn=<NllLossBackward0>)\n",
      "tensor(0.0136, device='cuda:0', grad_fn=<NllLossBackward0>)\n"
     ]
    }
   ],
   "source": [
    "loss_arr = []\n",
    "for i in range(num_epoch):\n",
    "    for j,[image,label] in enumerate(train_loader):\n",
    "        x = image.to(device)\n",
    "        y_ = label.to(device)\n",
    "        \n",
    "        optimizer.zero_grad()\n",
    "        output = model.forward(x)\n",
    "        loss = loss_func(output,y_)\n",
    "        loss.backward()\n",
    "        optimizer.step()\n",
    "        \n",
    "        if j%1000 == 0:\n",
    "            print(loss)\n",
    "            loss_arr.append(loss.cpu().detach().numpy())"
   ]
  },
  {
   "cell_type": "code",
   "execution_count": 7,
   "id": "69b27d9a",
   "metadata": {
    "ExecuteTime": {
     "end_time": "2022-05-22T11:34:52.433345Z",
     "start_time": "2022-05-22T11:34:49.161661Z"
    }
   },
   "outputs": [
    {
     "name": "stdout",
     "output_type": "stream",
     "text": [
      "Accuracy of Test Data: 98.87820434570312\n"
     ]
    }
   ],
   "source": [
    "correct = 0 \n",
    "total = 0 \n",
    "\n",
    "with torch.no_grad():\n",
    "    for image,label in test_loader:\n",
    "        x = image.to(device)\n",
    "        y_ = label.to(device)\n",
    "        \n",
    "        output = model.forward(x)\n",
    "        _,output_index = torch.max(output,1)\n",
    "        \n",
    "        total += label.size(0)\n",
    "        correct += (output_index ==y_).sum().float()\n",
    "        \n",
    "    print(\"Accuracy of Test Data: {}\".format(100*correct/total))"
   ]
  },
  {
   "cell_type": "markdown",
   "id": "fa9f0214",
   "metadata": {},
   "source": [
    "## test 추가진행\n",
    "- VGG net \n",
    "- GoogleLeNet\n",
    "- ResNet"
   ]
  },
  {
   "cell_type": "code",
   "execution_count": null,
   "id": "c9e87588",
   "metadata": {},
   "outputs": [],
   "source": []
  }
 ],
 "metadata": {
  "kernelspec": {
   "display_name": "pytorch",
   "language": "python",
   "name": "pytorch"
  },
  "language_info": {
   "codemirror_mode": {
    "name": "ipython",
    "version": 3
   },
   "file_extension": ".py",
   "mimetype": "text/x-python",
   "name": "python",
   "nbconvert_exporter": "python",
   "pygments_lexer": "ipython3",
   "version": "3.7.11"
  },
  "toc": {
   "base_numbering": 1,
   "nav_menu": {},
   "number_sections": true,
   "sideBar": true,
   "skip_h1_title": false,
   "title_cell": "Table of Contents",
   "title_sidebar": "Contents",
   "toc_cell": false,
   "toc_position": {},
   "toc_section_display": true,
   "toc_window_display": false
  }
 },
 "nbformat": 4,
 "nbformat_minor": 5
}
