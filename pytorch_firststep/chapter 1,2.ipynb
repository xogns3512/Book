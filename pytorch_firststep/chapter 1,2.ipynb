{
 "cells": [
  {
   "cell_type": "code",
   "execution_count": 1,
   "id": "eec26a08",
   "metadata": {
    "ExecuteTime": {
     "end_time": "2022-05-16T07:51:52.528477Z",
     "start_time": "2022-05-16T07:51:46.923467Z"
    }
   },
   "outputs": [],
   "source": [
    "import torch"
   ]
  },
  {
   "cell_type": "code",
   "execution_count": 2,
   "id": "5c803e7e",
   "metadata": {
    "ExecuteTime": {
     "end_time": "2022-05-16T07:52:00.159732Z",
     "start_time": "2022-05-16T07:52:00.138789Z"
    }
   },
   "outputs": [],
   "source": [
    "cpu_tensor = torch.zeros(2,3)"
   ]
  },
  {
   "cell_type": "code",
   "execution_count": 3,
   "id": "65637316",
   "metadata": {
    "ExecuteTime": {
     "end_time": "2022-05-16T07:52:10.183987Z",
     "start_time": "2022-05-16T07:52:10.167034Z"
    }
   },
   "outputs": [],
   "source": [
    "device = torch.device(\"cuda:0\")"
   ]
  },
  {
   "cell_type": "code",
   "execution_count": 4,
   "id": "c2a029e1",
   "metadata": {
    "ExecuteTime": {
     "end_time": "2022-05-16T07:52:24.562003Z",
     "start_time": "2022-05-16T07:52:24.329588Z"
    }
   },
   "outputs": [],
   "source": [
    "gpu_tensor = cpu_tensor.to(device)"
   ]
  },
  {
   "cell_type": "code",
   "execution_count": 5,
   "id": "fb7c2bda",
   "metadata": {
    "ExecuteTime": {
     "end_time": "2022-05-16T07:52:33.247725Z",
     "start_time": "2022-05-16T07:52:29.535653Z"
    }
   },
   "outputs": [
    {
     "name": "stdout",
     "output_type": "stream",
     "text": [
      "tensor([[0., 0., 0.],\n",
      "        [0., 0., 0.]], device='cuda:0')\n"
     ]
    }
   ],
   "source": [
    "print(gpu_tensor)"
   ]
  },
  {
   "cell_type": "code",
   "execution_count": null,
   "id": "7625c612",
   "metadata": {},
   "outputs": [],
   "source": []
  }
 ],
 "metadata": {
  "kernelspec": {
   "display_name": "pytorch",
   "language": "python",
   "name": "pytorch"
  },
  "language_info": {
   "codemirror_mode": {
    "name": "ipython",
    "version": 3
   },
   "file_extension": ".py",
   "mimetype": "text/x-python",
   "name": "python",
   "nbconvert_exporter": "python",
   "pygments_lexer": "ipython3",
   "version": "3.7.11"
  },
  "toc": {
   "base_numbering": 1,
   "nav_menu": {},
   "number_sections": true,
   "sideBar": true,
   "skip_h1_title": false,
   "title_cell": "Table of Contents",
   "title_sidebar": "Contents",
   "toc_cell": false,
   "toc_position": {},
   "toc_section_display": true,
   "toc_window_display": false
  }
 },
 "nbformat": 4,
 "nbformat_minor": 5
}
